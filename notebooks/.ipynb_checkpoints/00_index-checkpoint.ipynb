{
 "cells": [
  {
   "cell_type": "markdown",
   "metadata": {},
   "source": [
    "# Python_ds\n",
    "\n",
    "1. open https://colab.research.google.com/\n",
    "2. File > open notebook > github > https://github.com/ogbinar/python_ds\n",
    "3. Select notebooks/index.ipynb\n"
   ]
  },
  {
   "cell_type": "markdown",
   "metadata": {},
   "source": [
    "Topic Summary: [Python ds Content](98_contents.ipynb)"
   ]
  },
  {
   "cell_type": "markdown",
   "metadata": {},
   "source": [
    "# Collaborative Learning\n",
    "\n",
    "* If you DON’T know, ask in ZOOM or Slack\n",
    "* You can also refer to: google, online API references, stack overflow\n",
    "* If you’re NOT SURE, validate in ZOOM or Slack\n",
    "* If you DO know, share in ZOOM or Slack \n",
    "* Feel free to correct me, or add on the topic \n",
    "* Say your name, say your name\n"
   ]
  },
  {
   "cell_type": "markdown",
   "metadata": {},
   "source": [
    "# Fun Activities\n",
    "\n",
    "* Programming is a Personal Journey\n",
    "* Nothing stops you from learning from others - Pair Programming\n",
    "* Notebooks will be provided\n",
    "* During exercises, if you finish early – HELP OTHERS OUT"
   ]
  },
  {
   "cell_type": "markdown",
   "metadata": {},
   "source": [
    "Zen of Python\n",
    "===\n",
    "The Python community is incredibly large and diverse. People are using Python in science, in medicine, in robotics, on the internet, and in any other field you can imagine. This diverse group of thinkers has developed a collective mindset about how programs should be written. If you want to understand Python and the community of Python programmers, it is a good idea to learn the ways Python programmers think.\n",
    "\n",
    "You can easily see a set of guiding principles that is written right into the language:"
   ]
  },
  {
   "cell_type": "code",
   "execution_count": 1,
   "metadata": {},
   "outputs": [
    {
     "name": "stdout",
     "output_type": "stream",
     "text": [
      "The Zen of Python, by Tim Peters\n",
      "\n",
      "Beautiful is better than ugly.\n",
      "Explicit is better than implicit.\n",
      "Simple is better than complex.\n",
      "Complex is better than complicated.\n",
      "Flat is better than nested.\n",
      "Sparse is better than dense.\n",
      "Readability counts.\n",
      "Special cases aren't special enough to break the rules.\n",
      "Although practicality beats purity.\n",
      "Errors should never pass silently.\n",
      "Unless explicitly silenced.\n",
      "In the face of ambiguity, refuse the temptation to guess.\n",
      "There should be one-- and preferably only one --obvious way to do it.\n",
      "Although that way may not be obvious at first unless you're Dutch.\n",
      "Now is better than never.\n",
      "Although never is often better than *right* now.\n",
      "If the implementation is hard to explain, it's a bad idea.\n",
      "If the implementation is easy to explain, it may be a good idea.\n",
      "Namespaces are one honking great idea -- let's do more of those!\n"
     ]
    }
   ],
   "source": [
    "import this"
   ]
  },
  {
   "cell_type": "markdown",
   "metadata": {},
   "source": [
    "---"
   ]
  },
  {
   "cell_type": "markdown",
   "metadata": {},
   "source": [
    "There is a lot here. Let's just take a few lines, and see what they mean for you as a new programmer.\n",
    "\n",
    "   **Beautiful is better than ugly.**\n",
    "\n",
    "Python programmers recognize that good code can actually be beautiful. If you come up with a particularly elegant or efficient way to solve a problem, especially a difficult problem, other Python programmers will respect your work and may even call it beautiful. There is beauty in high-level technical work.\n",
    "\n",
    "   **Explicit is better than implicit.**\n",
    "\n",
    "It is better to be clear about what you are doing, than come up with some shorter way to do something that is difficult to understand.\n",
    "\n",
    "   **Simple is better than complex.**\n",
    "   **Complex is better than complicated.**\n",
    "\n",
    "Keep your code simple whenever possible, but recognize that we sometimes take on really difficult problems for which there are no easy solutions. In those cases, accept the complexity but avoid complication.\n",
    "\n",
    "   **Readability counts.**\n",
    "\n",
    "There are very few interesting and useful programs these days that are written and maintained entirely by one person. Write your code in a way that others can read it as easily as possible, and in a way that you will be able to read and understand it 6 months from now. This includes writing good comments in your code.\n",
    "\n",
    "   **There should be one-- and preferably only one --obvious way to do it.**\n",
    "\n",
    "There are many ways to solve most problems that come up in programming. However, most problems have a standard, well-established approach. Save complexity for when it is needed, and solve problems in the most straightforward way possible.\n",
    "\n",
    "   **Now is better than never.**\n",
    "\n",
    "No one ever writes perfect code. If you have an idea you want to implement it, write some code that works. Release it, let it be used by others, and then steadily improve it."
   ]
  },
  {
   "cell_type": "markdown",
   "metadata": {},
   "source": [
    "# Start your journey!"
   ]
  },
  {
   "cell_type": "markdown",
   "metadata": {},
   "source": [
    "**Start Here:** [Hello World](01_hello_world.ipynb), your very first Python program."
   ]
  },
  {
   "cell_type": "markdown",
   "metadata": {},
   "source": [
    "Want to improve your Py-fu? Click here for [Other References](99_resources.ipynb)"
   ]
  },
  {
   "cell_type": "markdown",
   "metadata": {},
   "source": [
    "    \n",
    "# Exploring the Python Community\n",
    "\n",
    "As I have said earlier, the Python community is incredibly rich and diverse. Here are a couple resources to look at, if you want to do some exploring.\n",
    "\n",
    "- [The Python website](http://python.org/)\n",
    "\n",
    "    The main Python website is probably not of too much interest to you at this point, but it is a great resource to know about as you start to learn more.\n",
    "    \n",
    "<!-- -->\n",
    "\n",
    "- [PyCon](https://us.pycon.org/)\n",
    "\n",
    "    The Python Conference (PyCon) is an incredible event, and the community is entirely welcoming to new programmers. They happen all over the world, throughout the year. If you can make your way to one of these conferences, you will learn a great deal and meet some really interesting people.\n",
    "\n",
    "<!-- -->\n",
    "    \n",
    "- [PyLadies](http://www.pyladies.com/)\n",
    "\n",
    "    Women and minorities are still under-represented in most technology fields, and the programming world is no different in this regard. That said, the Python community may well be the most welcoming and supportive programming community for women and minorities. There are a number of groups dedicated to bringing women and minorities together around programming in Python, and there are a number of explicit Codes of Conduct for Python-related events.\n",
    "\n",
    "    PyLadies is one of the most visible of these organizations. They are a great resource, so go see what they do and what they have to offer.\n",
    "\n",
    "<!-- -->\n",
    "    \n",
    "- [Python User Groups](https://wiki.python.org/moin/LocalUserGroups)\n",
    "\n",
    "    Wherever there are a number of Python programmers, they will find a way to get together. Python user groups are regular meetings of Python users from a local area. Go take a look at the list of user groups, and see if there is one near you.\n",
    "    \n",
    "<!-- -->\n",
    "    \n",
    "- [Python PH](https://www.facebook.com/groups/pythonph/)\n",
    "\n",
    "    We are PythonPH, a community in the Philippines for enthusiasts and users of the Python programming language. Our aim is to show that Python has something for everyone: from hobbyists, to educators, to professionals. More info: http://python.ph/\n",
    "\n",
    "<!-- -->\n",
    "    \n",
    "- [StackOverflow PH](https://stackoverflow.com/questions/tagged/python)\n",
    "\n",
    "    Stack Overflow is a question and answer site for professional and enthusiast programmers. It's built and run by you as part of the Stack Exchange network of Q&A sites. With your help, we're working together to build a library of detailed answers to every question about programming.\n",
    "\n",
    "<!-- -->\n",
    "    \n",
    "- [Github Python](https://github.com/topics/python)\n",
    "\n",
    "     Github provides hosting for software development and version control using Git. It offers the distributed version control and source code management functionality of Git, plus its own features."
   ]
  }
 ],
 "metadata": {
  "kernelspec": {
   "display_name": "Python 3",
   "language": "python",
   "name": "python3"
  },
  "language_info": {
   "codemirror_mode": {
    "name": "ipython",
    "version": 3
   },
   "file_extension": ".py",
   "mimetype": "text/x-python",
   "name": "python",
   "nbconvert_exporter": "python",
   "pygments_lexer": "ipython3",
   "version": "3.8.3"
  }
 },
 "nbformat": 4,
 "nbformat_minor": 1
}
