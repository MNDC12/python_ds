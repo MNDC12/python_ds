{
 "cells": [
  {
   "cell_type": "markdown",
   "metadata": {},
   "source": [
    "# Resources"
   ]
  },
  {
   "cell_type": "markdown",
   "metadata": {},
   "source": [
    "---"
   ]
  },
  {
   "cell_type": "markdown",
   "metadata": {},
   "source": [
    "Documentations\n",
    "--\n",
    "\n",
    "* [SciPy](https://www.scipy.org/)\n",
    "* [NumPy](https://numpy.org/)\n",
    "* [Matplotlib](https://matplotlib.org/)\n",
    "* [Pandas](https://pandas.pydata.org/)\n",
    "* [Scikit-Learn](https://scikit-learn.org/stable/)\n"
   ]
  },
  {
   "cell_type": "markdown",
   "metadata": {},
   "source": [
    "Tutorials\n",
    "--\n",
    "\n",
    "- [Python Data Science Handbook](https://github.com/jakevdp/PythonDataScienceHandbook)\n",
    "- [Awesome Data Science with Python](https://github.com/r0f1/datascience)\n",
    "- [Kaggle DS notebooks](https://www.kaggle.com/ashishpatel26/useful-data-science-notebooks-from-github)\n"
   ]
  },
  {
   "cell_type": "markdown",
   "metadata": {},
   "source": [
    "---"
   ]
  },
  {
   "cell_type": "markdown",
   "metadata": {},
   "source": [
    "Videos\n",
    "--\n",
    "\n",
    "* [Data Science Dojo](https://www.youtube.com/user/DataScienceDojo/videos)\n",
    "* [Data School](https://www.youtube.com/user/dataschool/videos)"
   ]
  },
  {
   "cell_type": "markdown",
   "metadata": {},
   "source": [
    "---"
   ]
  },
  {
   "cell_type": "markdown",
   "metadata": {},
   "source": [
    "Challenges\n",
    "--\n",
    "\n",
    "If you are equipped with basics of Python Data Science, taking up challenges is a great way to implement the skills.\n",
    "\n",
    "- [Kaggle Competitions](https://www.kaggle.com/competitions)\n",
    "\n",
    "- [Iron Viz](https://tableau.com/iron-viz)\n",
    "\n",
    "- [Driven Data](https://drivendata.org/competitions)\n",
    "\n",
    "- [Coda Lab](https://competitions.codalab.org)\n",
    "\n",
    "- [ODS AI](https://ods.ai/competitions)\n",
    "\n",
    "- [KD Nuggets](https://www.kdnuggets.com/competitions/index.html)\n"
   ]
  },
  {
   "cell_type": "code",
   "execution_count": null,
   "metadata": {},
   "outputs": [],
   "source": []
  }
 ],
 "metadata": {
  "kernelspec": {
   "display_name": "Python 3",
   "language": "python",
   "name": "python3"
  },
  "language_info": {
   "codemirror_mode": {
    "name": "ipython",
    "version": 3
   },
   "file_extension": ".py",
   "mimetype": "text/x-python",
   "name": "python",
   "nbconvert_exporter": "python",
   "pygments_lexer": "ipython3",
   "version": "3.8.3"
  }
 },
 "nbformat": 4,
 "nbformat_minor": 1
}
